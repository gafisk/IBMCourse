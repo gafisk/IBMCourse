{
 "cells": [
  {
   "cell_type": "markdown",
   "id": "645f373e",
   "metadata": {},
   "source": [
    "# Alat dan Ekosistem Data Science"
   ]
  },
  {
   "cell_type": "markdown",
   "id": "c422c52e",
   "metadata": {},
   "source": [
    "Bagian awal tentang alat dan ekosistem data science"
   ]
  },
  {
   "cell_type": "markdown",
   "id": "47d2b58e",
   "metadata": {},
   "source": [
    "Bahasa yang sangat populer\n",
    "1. python\n",
    "2. R"
   ]
  },
  {
   "cell_type": "markdown",
   "id": "2f160867",
   "metadata": {},
   "source": [
    "Beberapa Library Data Science\n",
    "1. TensorFlow\n",
    "2. Numpy\n",
    "3. Pandas"
   ]
  },
  {
   "cell_type": "markdown",
   "id": "35d68baa",
   "metadata": {},
   "source": [
    "|Alat Data Science|\n",
    "|---|\n",
    "|VS Code|\n",
    "|TensorFLow|"
   ]
  },
  {
   "cell_type": "markdown",
   "id": "c8366743",
   "metadata": {},
   "source": [
    "### Ini artimatika di python"
   ]
  },
  {
   "cell_type": "code",
   "execution_count": 4,
   "id": "b0798146",
   "metadata": {},
   "outputs": [
    {
     "data": {
      "text/plain": [
       "17"
      ]
     },
     "execution_count": 4,
     "metadata": {},
     "output_type": "execute_result"
    }
   ],
   "source": [
    "(3*4)+5"
   ]
  },
  {
   "cell_type": "code",
   "execution_count": 5,
   "id": "7b08ed3b",
   "metadata": {},
   "outputs": [
    {
     "data": {
      "text/plain": [
       "3.3333333333333335"
      ]
     },
     "execution_count": 5,
     "metadata": {},
     "output_type": "execute_result"
    }
   ],
   "source": [
    "200/60"
   ]
  },
  {
   "cell_type": "markdown",
   "id": "4941684a",
   "metadata": {},
   "source": [
    "__Objektif__\n",
    "1. List populer disetiap bahasa pemrograman\n",
    "2. List populer di Data Science"
   ]
  },
  {
   "cell_type": "markdown",
   "id": "dce3fb06",
   "metadata": {},
   "source": [
    "## Author\n",
    "Galih Restu Baihaqi"
   ]
  }
 ],
 "metadata": {
  "kernelspec": {
   "display_name": "Python 3 (ipykernel)",
   "language": "python",
   "name": "python3"
  },
  "language_info": {
   "codemirror_mode": {
    "name": "ipython",
    "version": 3
   },
   "file_extension": ".py",
   "mimetype": "text/x-python",
   "name": "python",
   "nbconvert_exporter": "python",
   "pygments_lexer": "ipython3",
   "version": "3.10.9"
  }
 },
 "nbformat": 4,
 "nbformat_minor": 5
}
